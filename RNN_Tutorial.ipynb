{
  "nbformat": 4,
  "nbformat_minor": 0,
  "metadata": {
    "colab": {
      "private_outputs": true,
      "provenance": []
    },
    "kernelspec": {
      "name": "python3",
      "display_name": "Python 3"
    },
    "language_info": {
      "name": "python"
    }
  },
  "cells": [
    {
      "cell_type": "markdown",
      "source": [
        "# Recurrent Neural Networks(RNN)\n",
        "---\n",
        "\n",
        "![](https://images.datacamp.com/image/upload/v1647442110/image2_ysmali.png)\n"
      ],
      "metadata": {
        "id": "_YmqATYn5b8b"
      }
    },
    {
      "cell_type": "markdown",
      "source": [
        "- `One-to-one` is a simple neural network. It is commonly used for machine learning problems that have a single input and output\n",
        "\n",
        "- `One-to-Many` has a single input and multiple outputs. This is used for generating image captions\n",
        "\n",
        "- `Many-to-One` takes a sequence of multiple inputs and predicts a single output. It is popular i seniment classification, where the input is text and the output is category.\n",
        "\n",
        "- `Many-to-Many` takes multiple inputs and outputs. The most common application is machine translation\n",
        "\n",
        "![](https://images.datacamp.com/image/upload/v1647442111/image9_e1gwba.png)\n",
        "\n"
      ],
      "metadata": {
        "id": "Dr1AFJz68P3X"
      }
    },
    {
      "cell_type": "code",
      "source": [
        "import tensorflow as tf\n",
        "from tensorflow import keras\n",
        "from keras.model import Sequential\n",
        "from keras.layers import Dense, LSTM, Dropout\n",
        "import pandas as pd\n",
        "import numpy as np\n",
        "import matplotlib.pyplot as plt"
      ],
      "metadata": {
        "id": "Vn9g-D4Q6Q5j"
      },
      "execution_count": null,
      "outputs": []
    },
    {
      "cell_type": "code",
      "source": [],
      "metadata": {
        "id": "uFZ0Tqcy6Q2J"
      },
      "execution_count": null,
      "outputs": []
    },
    {
      "cell_type": "code",
      "source": [],
      "metadata": {
        "id": "uekOuUHU6Qzh"
      },
      "execution_count": null,
      "outputs": []
    },
    {
      "cell_type": "code",
      "source": [],
      "metadata": {
        "id": "g6wdeAsH6Qtm"
      },
      "execution_count": null,
      "outputs": []
    },
    {
      "cell_type": "code",
      "source": [],
      "metadata": {
        "id": "bg1kUGwN6Qp4"
      },
      "execution_count": null,
      "outputs": []
    },
    {
      "cell_type": "code",
      "source": [],
      "metadata": {
        "id": "YW2tWIii6Qm7"
      },
      "execution_count": null,
      "outputs": []
    },
    {
      "cell_type": "code",
      "source": [],
      "metadata": {
        "id": "aiE-2NaW6Qj4"
      },
      "execution_count": null,
      "outputs": []
    },
    {
      "cell_type": "code",
      "source": [],
      "metadata": {
        "id": "XDQ44mFZ6Qgg"
      },
      "execution_count": null,
      "outputs": []
    },
    {
      "cell_type": "code",
      "execution_count": null,
      "metadata": {
        "id": "YtTNwEp44wIy"
      },
      "outputs": [],
      "source": []
    }
  ]
}