{
  "nbformat": 4,
  "nbformat_minor": 0,
  "metadata": {
    "colab": {
      "provenance": []
    },
    "kernelspec": {
      "name": "python3",
      "display_name": "Python 3"
    },
    "language_info": {
      "name": "python"
    }
  },
  "cells": [
    {
      "cell_type": "markdown",
      "source": [
        "# Implementation of activation funsions in python\n",
        "\n",
        "---"
      ],
      "metadata": {
        "id": "BwJ0LSSDIek8"
      }
    },
    {
      "cell_type": "markdown",
      "source": [
        "# relu funsion\n",
        "\n",
        "Applies the rectified linear unit activation function.\n",
        "\n",
        "With default values, this returns the standard ReLU activation: `max(x, 0)`, the element-wise maximum of 0 and the input tensor.\n",
        "\n",
        "Modifying default parameters allows you to use non-zero thresholds, change the max value of the activation, and to use a non-zero multiple of the input for values below the threshold."
      ],
      "metadata": {
        "id": "ZrDYkAGy5jkj"
      }
    },
    {
      "cell_type": "code",
      "source": [
        "import math\n",
        "import tensorflow as tf"
      ],
      "metadata": {
        "id": "qv9Sz5v4JZ9C"
      },
      "execution_count": 69,
      "outputs": []
    },
    {
      "cell_type": "code",
      "source": [
        "x = [-10, -5, 0.0, 5, 10]\n",
        "\n",
        "relu_output = tf.keras.activations.relu(x)\n",
        "print(relu_output)"
      ],
      "metadata": {
        "colab": {
          "base_uri": "https://localhost:8080/"
        },
        "id": "icYth-dm6uEK",
        "outputId": "b316ed8e-645d-4db5-83ae-d87092161b25"
      },
      "execution_count": 70,
      "outputs": [
        {
          "output_type": "stream",
          "name": "stdout",
          "text": [
            "tf.Tensor([ 0.  0.  0.  5. 10.], shape=(5,), dtype=float32)\n"
          ]
        }
      ]
    },
    {
      "cell_type": "code",
      "source": [
        "def relu(x):\n",
        "  return max(0,x)\n",
        "\n",
        "relu(-100)"
      ],
      "metadata": {
        "colab": {
          "base_uri": "https://localhost:8080/"
        },
        "id": "pP291J6_5P-1",
        "outputId": "7428684d-9077-4d7a-ec48-4b0b02f1c74b"
      },
      "execution_count": 71,
      "outputs": [
        {
          "output_type": "execute_result",
          "data": {
            "text/plain": [
              "0"
            ]
          },
          "metadata": {},
          "execution_count": 71
        }
      ]
    },
    {
      "cell_type": "code",
      "source": [
        "relu(10)"
      ],
      "metadata": {
        "colab": {
          "base_uri": "https://localhost:8080/"
        },
        "id": "lh7AG9rC6Fzs",
        "outputId": "cd67b19c-3d35-434e-a404-5ce386a1071f"
      },
      "execution_count": 72,
      "outputs": [
        {
          "output_type": "execute_result",
          "data": {
            "text/plain": [
              "10"
            ]
          },
          "metadata": {},
          "execution_count": 72
        }
      ]
    },
    {
      "cell_type": "markdown",
      "source": [
        "# Sigmoid activation function.\n",
        "\n",
        "- It is defined as: sigmoid(x) = 1 / (1 + exp(-x)).\n",
        "\n",
        "- For small values (<-5), sigmoid returns a value close to zero, and for large values (>5) the result of the function gets close to 1.\n",
        "\n",
        "- Sigmoid is equivalent to a 2-element softmax, where the second element is assumed to be zero. The sigmoid function always returns a value between 0 and 1.\n",
        "\n",
        "+ Arguments\n",
        "\n",
        "  --x: Input tensor."
      ],
      "metadata": {
        "id": "tNGWiOTC7G8C"
      }
    },
    {
      "cell_type": "code",
      "source": [
        "x = [-10, -5, 0.0, 5, 10]\n",
        "\n",
        "relu_output = tf.keras.activations.sigmoid(x)\n",
        "print(relu_output)"
      ],
      "metadata": {
        "colab": {
          "base_uri": "https://localhost:8080/"
        },
        "id": "uC_nZ7-N6y9S",
        "outputId": "f18ca0b0-91eb-4692-fc26-faf57085dbdd"
      },
      "execution_count": 73,
      "outputs": [
        {
          "output_type": "stream",
          "name": "stdout",
          "text": [
            "tf.Tensor([4.539787e-05 6.692851e-03 5.000000e-01 9.933072e-01 9.999546e-01], shape=(5,), dtype=float32)\n"
          ]
        }
      ]
    },
    {
      "cell_type": "code",
      "source": [
        "def sigmoid(x):\n",
        "  return 1 / (1 + math.exp(-x))\n",
        "\n",
        "\n",
        "sigmoid(1)"
      ],
      "metadata": {
        "colab": {
          "base_uri": "https://localhost:8080/"
        },
        "id": "prPKfHu17GUB",
        "outputId": "89113359-c7ad-4487-c658-fdc612067c0f"
      },
      "execution_count": 74,
      "outputs": [
        {
          "output_type": "execute_result",
          "data": {
            "text/plain": [
              "0.7310585786300049"
            ]
          },
          "metadata": {},
          "execution_count": 74
        }
      ]
    },
    {
      "cell_type": "code",
      "source": [
        "sigmoid(100)"
      ],
      "metadata": {
        "colab": {
          "base_uri": "https://localhost:8080/"
        },
        "id": "MV7_WU7B7Esp",
        "outputId": "2ba55b98-cf0f-450d-8f33-5afdb47df639"
      },
      "execution_count": 75,
      "outputs": [
        {
          "output_type": "execute_result",
          "data": {
            "text/plain": [
              "1.0"
            ]
          },
          "metadata": {},
          "execution_count": 75
        }
      ]
    },
    {
      "cell_type": "code",
      "source": [
        "sigmoid(-56)"
      ],
      "metadata": {
        "colab": {
          "base_uri": "https://localhost:8080/"
        },
        "id": "tOUTnBaA9XDB",
        "outputId": "933d55ea-5a3a-4ef7-a835-46f2288a9160"
      },
      "execution_count": 76,
      "outputs": [
        {
          "output_type": "execute_result",
          "data": {
            "text/plain": [
              "4.780892883885469e-25"
            ]
          },
          "metadata": {},
          "execution_count": 76
        }
      ]
    },
    {
      "cell_type": "code",
      "source": [
        "sigmoid(0.5)"
      ],
      "metadata": {
        "colab": {
          "base_uri": "https://localhost:8080/"
        },
        "id": "b5dnqgEL9coz",
        "outputId": "5f1743b2-ff66-4a31-be5a-ac641f997224"
      },
      "execution_count": 77,
      "outputs": [
        {
          "output_type": "execute_result",
          "data": {
            "text/plain": [
              "0.6224593312018546"
            ]
          },
          "metadata": {},
          "execution_count": 77
        }
      ]
    },
    {
      "cell_type": "markdown",
      "source": [
        "# sorfmax funtion\n",
        "\n",
        "Softmax converts a vector of values to a probability distribution.\n",
        "\n",
        "The elements of the output vector are in range `[0, 1]` and sum to 1.\n",
        "\n",
        "Each input vector is handled independently. The `axis` argument sets which axis of the input the function is applied along.\n",
        "\n",
        "Softmax is often used as the activation for the last layer of a classification network because the result could be interpreted as a probability distribution.\n",
        "\n",
        "The softmax of each vector x is computed as `exp(x) / sum(exp(x))`.\n",
        "\n",
        "The input values in are the log-odds of the resulting probability.\n",
        "\n",
        "Arguments\n",
        "\n",
        "x: Input tensor.\n",
        "\n",
        "axis: Integer, axis along which the softmax is applied."
      ],
      "metadata": {
        "id": "8caiAAHV_LwW"
      }
    },
    {
      "cell_type": "code",
      "source": [
        "x = [-10, -5, 0.0, 5, 10]\n",
        "\n",
        "# Convert the list x to a Tensorflow tensor\n",
        "x_tensor = tf.constant([x])\n",
        "\n",
        "outputs = tf.keras.activations.softmax(x_tensor)\n",
        "print(outputs)"
      ],
      "metadata": {
        "colab": {
          "base_uri": "https://localhost:8080/"
        },
        "id": "izkweD4598Q4",
        "outputId": "778cf588-2b56-4bdf-fa2c-93d2026d2c75"
      },
      "execution_count": 78,
      "outputs": [
        {
          "output_type": "stream",
          "name": "stdout",
          "text": [
            "tf.Tensor([[2.0472659e-09 3.0384118e-07 4.5094032e-05 6.6925474e-03 9.9326211e-01]], shape=(1, 5), dtype=float32)\n"
          ]
        }
      ]
    },
    {
      "cell_type": "markdown",
      "source": [
        "# tanh function\n",
        "Hyperbolic tangent activation function.\n",
        "\n",
        "It is defined as: tanh(x) = sinh(x) / cosh(x), i.e. tanh(x) = ((exp(x) - exp(-x)) / (exp(x) + exp(-x)))."
      ],
      "metadata": {
        "id": "FYA8QcWtGG02"
      }
    },
    {
      "cell_type": "code",
      "source": [
        "x = [-10, -5, 0.0, 5, 10]\n",
        "\n",
        "outputs = tf.keras.activations.tanh(x)\n",
        "print(outputs)"
      ],
      "metadata": {
        "colab": {
          "base_uri": "https://localhost:8080/"
        },
        "id": "DxioTGBNFiM5",
        "outputId": "dc65cb95-dfb4-473b-a33c-491449bba8dc"
      },
      "execution_count": 79,
      "outputs": [
        {
          "output_type": "stream",
          "name": "stdout",
          "text": [
            "tf.Tensor([-1.         -0.99990916  0.          0.99990916  1.        ], shape=(5,), dtype=float32)\n"
          ]
        }
      ]
    },
    {
      "cell_type": "code",
      "source": [
        "def tanh(x):\n",
        "  return (math.exp(x) - math.exp(-x)) / (math.exp(x) + math.exp(-x))"
      ],
      "metadata": {
        "id": "jvy3Gbi6GdeB"
      },
      "execution_count": 80,
      "outputs": []
    },
    {
      "cell_type": "code",
      "source": [
        "tanh(-56)"
      ],
      "metadata": {
        "colab": {
          "base_uri": "https://localhost:8080/"
        },
        "id": "UXyfN11OGwkh",
        "outputId": "1b555f01-978d-44e0-abdd-391ad9983057"
      },
      "execution_count": 81,
      "outputs": [
        {
          "output_type": "execute_result",
          "data": {
            "text/plain": [
              "-1.0"
            ]
          },
          "metadata": {},
          "execution_count": 81
        }
      ]
    },
    {
      "cell_type": "code",
      "source": [
        "tanh(-10)"
      ],
      "metadata": {
        "colab": {
          "base_uri": "https://localhost:8080/"
        },
        "id": "Rs3QFdzIGyex",
        "outputId": "a95a0ddc-ebb5-4571-f945-e908974eb0f6"
      },
      "execution_count": 82,
      "outputs": [
        {
          "output_type": "execute_result",
          "data": {
            "text/plain": [
              "-0.9999999958776926"
            ]
          },
          "metadata": {},
          "execution_count": 82
        }
      ]
    },
    {
      "cell_type": "code",
      "source": [
        "tanh(50)"
      ],
      "metadata": {
        "colab": {
          "base_uri": "https://localhost:8080/"
        },
        "id": "0t-S1q_IG1Ss",
        "outputId": "49976b8c-d4be-417e-d6ac-46a88bba26b7"
      },
      "execution_count": 83,
      "outputs": [
        {
          "output_type": "execute_result",
          "data": {
            "text/plain": [
              "1.0"
            ]
          },
          "metadata": {},
          "execution_count": 83
        }
      ]
    },
    {
      "cell_type": "code",
      "source": [
        "tanh(1)"
      ],
      "metadata": {
        "colab": {
          "base_uri": "https://localhost:8080/"
        },
        "id": "Ux2se3UMG5bR",
        "outputId": "901dd56c-c37d-4e36-a0ce-ef34e0c43234"
      },
      "execution_count": 84,
      "outputs": [
        {
          "output_type": "execute_result",
          "data": {
            "text/plain": [
              "0.7615941559557649"
            ]
          },
          "metadata": {},
          "execution_count": 84
        }
      ]
    },
    {
      "cell_type": "code",
      "source": [
        "def softplus(x):\n",
        "  return math.log(math.exp(x) + 1)"
      ],
      "metadata": {
        "id": "-gpvDVEpKNHJ"
      },
      "execution_count": 85,
      "outputs": []
    },
    {
      "cell_type": "code",
      "source": [
        "softplus(1)"
      ],
      "metadata": {
        "colab": {
          "base_uri": "https://localhost:8080/"
        },
        "id": "gXIsZ3mIKcsp",
        "outputId": "32fb0ae4-1f04-4487-f181-2fc0639eadc6"
      },
      "execution_count": 90,
      "outputs": [
        {
          "output_type": "execute_result",
          "data": {
            "text/plain": [
              "1.3132616875182228"
            ]
          },
          "metadata": {},
          "execution_count": 90
        }
      ]
    },
    {
      "cell_type": "code",
      "source": [],
      "metadata": {
        "id": "EECpQFyWKfdF"
      },
      "execution_count": null,
      "outputs": []
    }
  ]
}