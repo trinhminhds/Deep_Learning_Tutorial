{
 "cells": [
  {
   "cell_type": "code",
   "execution_count": 1,
   "id": "a9d9d1e3",
   "metadata": {
    "_cell_guid": "b1076dfc-b9ad-4769-8c92-a6c4dae69d19",
    "_uuid": "8f2839f25d086af736a60e9eeb907d3b93b6e0e5",
    "execution": {
     "iopub.execute_input": "2024-05-31T14:38:20.944740Z",
     "iopub.status.busy": "2024-05-31T14:38:20.944436Z",
     "iopub.status.idle": "2024-05-31T14:38:36.634174Z",
     "shell.execute_reply": "2024-05-31T14:38:36.633092Z"
    },
    "papermill": {
     "duration": 15.701153,
     "end_time": "2024-05-31T14:38:36.636576",
     "exception": false,
     "start_time": "2024-05-31T14:38:20.935423",
     "status": "completed"
    },
    "tags": []
   },
   "outputs": [
    {
     "name": "stdout",
     "output_type": "stream",
     "text": [
      "\u001b[33mWARNING: Error parsing requirements for aiohttp: [Errno 2] No such file or directory: '/opt/conda/lib/python3.10/site-packages/aiohttp-3.9.1.dist-info/METADATA'\u001b[0m\u001b[33m\r\n",
      "\u001b[0m\u001b[31mERROR: pip's dependency resolver does not currently take into account all the packages that are installed. This behaviour is the source of the following dependency conflicts.\r\n",
      "tensorflow-decision-forests 1.8.1 requires wurlitzer, which is not installed.\u001b[0m\u001b[31m\r\n",
      "\u001b[0m"
     ]
    }
   ],
   "source": [
    "!pip -q install tensorflow_text tensorflow tensorflow_hub "
   ]
  },
  {
   "cell_type": "code",
   "execution_count": 2,
   "id": "8f47d34a",
   "metadata": {
    "execution": {
     "iopub.execute_input": "2024-05-31T14:38:36.653264Z",
     "iopub.status.busy": "2024-05-31T14:38:36.652966Z",
     "iopub.status.idle": "2024-05-31T14:38:49.315955Z",
     "shell.execute_reply": "2024-05-31T14:38:49.315176Z"
    },
    "papermill": {
     "duration": 12.673874,
     "end_time": "2024-05-31T14:38:49.318220",
     "exception": false,
     "start_time": "2024-05-31T14:38:36.644346",
     "status": "completed"
    },
    "tags": []
   },
   "outputs": [
    {
     "name": "stderr",
     "output_type": "stream",
     "text": [
      "2024-05-31 14:38:39.104493: E external/local_xla/xla/stream_executor/cuda/cuda_dnn.cc:9261] Unable to register cuDNN factory: Attempting to register factory for plugin cuDNN when one has already been registered\n",
      "2024-05-31 14:38:39.104619: E external/local_xla/xla/stream_executor/cuda/cuda_fft.cc:607] Unable to register cuFFT factory: Attempting to register factory for plugin cuFFT when one has already been registered\n",
      "2024-05-31 14:38:39.230224: E external/local_xla/xla/stream_executor/cuda/cuda_blas.cc:1515] Unable to register cuBLAS factory: Attempting to register factory for plugin cuBLAS when one has already been registered\n"
     ]
    }
   ],
   "source": [
    "import pandas as pd\n",
    "import matplotlib.pyplot as plt\n",
    "import numpy as np\n",
    "import tensorflow as tf\n",
    "import tensorflow_hub as hub\n",
    "import tensorflow_text as text"
   ]
  },
  {
   "cell_type": "code",
   "execution_count": 3,
   "id": "6105e8a2",
   "metadata": {
    "execution": {
     "iopub.execute_input": "2024-05-31T14:38:49.334982Z",
     "iopub.status.busy": "2024-05-31T14:38:49.334475Z",
     "iopub.status.idle": "2024-05-31T14:38:49.534548Z",
     "shell.execute_reply": "2024-05-31T14:38:49.533569Z"
    },
    "papermill": {
     "duration": 0.210885,
     "end_time": "2024-05-31T14:38:49.536960",
     "exception": false,
     "start_time": "2024-05-31T14:38:49.326075",
     "status": "completed"
    },
    "tags": []
   },
   "outputs": [
    {
     "data": {
      "text/html": [
       "<div>\n",
       "<style scoped>\n",
       "    .dataframe tbody tr th:only-of-type {\n",
       "        vertical-align: middle;\n",
       "    }\n",
       "\n",
       "    .dataframe tbody tr th {\n",
       "        vertical-align: top;\n",
       "    }\n",
       "\n",
       "    .dataframe thead th {\n",
       "        text-align: right;\n",
       "    }\n",
       "</style>\n",
       "<table border=\"1\" class=\"dataframe\">\n",
       "  <thead>\n",
       "    <tr style=\"text-align: right;\">\n",
       "      <th></th>\n",
       "      <th>text</th>\n",
       "      <th>spam</th>\n",
       "    </tr>\n",
       "  </thead>\n",
       "  <tbody>\n",
       "    <tr>\n",
       "      <th>0</th>\n",
       "      <td>Subject: naturally irresistible your corporate...</td>\n",
       "      <td>1</td>\n",
       "    </tr>\n",
       "    <tr>\n",
       "      <th>1</th>\n",
       "      <td>Subject: the stock trading gunslinger  fanny i...</td>\n",
       "      <td>1</td>\n",
       "    </tr>\n",
       "    <tr>\n",
       "      <th>2</th>\n",
       "      <td>Subject: unbelievable new homes made easy  im ...</td>\n",
       "      <td>1</td>\n",
       "    </tr>\n",
       "    <tr>\n",
       "      <th>3</th>\n",
       "      <td>Subject: 4 color printing special  request add...</td>\n",
       "      <td>1</td>\n",
       "    </tr>\n",
       "    <tr>\n",
       "      <th>4</th>\n",
       "      <td>Subject: do not have money , get software cds ...</td>\n",
       "      <td>1</td>\n",
       "    </tr>\n",
       "  </tbody>\n",
       "</table>\n",
       "</div>"
      ],
      "text/plain": [
       "                                                text  spam\n",
       "0  Subject: naturally irresistible your corporate...     1\n",
       "1  Subject: the stock trading gunslinger  fanny i...     1\n",
       "2  Subject: unbelievable new homes made easy  im ...     1\n",
       "3  Subject: 4 color printing special  request add...     1\n",
       "4  Subject: do not have money , get software cds ...     1"
      ]
     },
     "execution_count": 3,
     "metadata": {},
     "output_type": "execute_result"
    }
   ],
   "source": [
    "df = pd.read_csv('/kaggle/input/spam-email-big/emails.csv')\n",
    "df.head(5)"
   ]
  },
  {
   "cell_type": "code",
   "execution_count": 4,
   "id": "c4020abc",
   "metadata": {
    "execution": {
     "iopub.execute_input": "2024-05-31T14:38:49.556539Z",
     "iopub.status.busy": "2024-05-31T14:38:49.556193Z",
     "iopub.status.idle": "2024-05-31T14:38:49.571058Z",
     "shell.execute_reply": "2024-05-31T14:38:49.570092Z"
    },
    "papermill": {
     "duration": 0.026932,
     "end_time": "2024-05-31T14:38:49.573243",
     "exception": false,
     "start_time": "2024-05-31T14:38:49.546311",
     "status": "completed"
    },
    "tags": []
   },
   "outputs": [
    {
     "data": {
      "text/plain": [
       "spam\n",
       "0    4360\n",
       "1    1368\n",
       "Name: count, dtype: int64"
      ]
     },
     "execution_count": 4,
     "metadata": {},
     "output_type": "execute_result"
    }
   ],
   "source": [
    "df['spam'].value_counts()"
   ]
  },
  {
   "cell_type": "code",
   "execution_count": 5,
   "id": "8dd8ea15",
   "metadata": {
    "execution": {
     "iopub.execute_input": "2024-05-31T14:38:49.592207Z",
     "iopub.status.busy": "2024-05-31T14:38:49.591697Z",
     "iopub.status.idle": "2024-05-31T14:38:49.602511Z",
     "shell.execute_reply": "2024-05-31T14:38:49.601519Z"
    },
    "papermill": {
     "duration": 0.022826,
     "end_time": "2024-05-31T14:38:49.604875",
     "exception": false,
     "start_time": "2024-05-31T14:38:49.582049",
     "status": "completed"
    },
    "tags": []
   },
   "outputs": [
    {
     "data": {
      "text/plain": [
       "(4360, 2)"
      ]
     },
     "execution_count": 5,
     "metadata": {},
     "output_type": "execute_result"
    }
   ],
   "source": [
    "df_ham = df[df['spam'] == 0]\n",
    "df_ham.shape"
   ]
  },
  {
   "cell_type": "code",
   "execution_count": 6,
   "id": "7fe1ba74",
   "metadata": {
    "execution": {
     "iopub.execute_input": "2024-05-31T14:38:49.626116Z",
     "iopub.status.busy": "2024-05-31T14:38:49.625648Z",
     "iopub.status.idle": "2024-05-31T14:38:49.632943Z",
     "shell.execute_reply": "2024-05-31T14:38:49.632047Z"
    },
    "papermill": {
     "duration": 0.020071,
     "end_time": "2024-05-31T14:38:49.635094",
     "exception": false,
     "start_time": "2024-05-31T14:38:49.615023",
     "status": "completed"
    },
    "tags": []
   },
   "outputs": [
    {
     "data": {
      "text/plain": [
       "(1368, 2)"
      ]
     },
     "execution_count": 6,
     "metadata": {},
     "output_type": "execute_result"
    }
   ],
   "source": [
    "df_spam = df[df['spam'] == 1]\n",
    "df_spam.shape"
   ]
  },
  {
   "cell_type": "code",
   "execution_count": 7,
   "id": "5c82745f",
   "metadata": {
    "execution": {
     "iopub.execute_input": "2024-05-31T14:38:49.655465Z",
     "iopub.status.busy": "2024-05-31T14:38:49.655174Z",
     "iopub.status.idle": "2024-05-31T14:38:49.665194Z",
     "shell.execute_reply": "2024-05-31T14:38:49.664337Z"
    },
    "papermill": {
     "duration": 0.021927,
     "end_time": "2024-05-31T14:38:49.667284",
     "exception": false,
     "start_time": "2024-05-31T14:38:49.645357",
     "status": "completed"
    },
    "tags": []
   },
   "outputs": [
    {
     "data": {
      "text/plain": [
       "(1368, 2)"
      ]
     },
     "execution_count": 7,
     "metadata": {},
     "output_type": "execute_result"
    }
   ],
   "source": [
    "df_ham_down = df_ham.sample(df_spam.shape[0])\n",
    "df_ham_down.shape"
   ]
  },
  {
   "cell_type": "code",
   "execution_count": 8,
   "id": "2e1e43a0",
   "metadata": {
    "execution": {
     "iopub.execute_input": "2024-05-31T14:38:49.686052Z",
     "iopub.status.busy": "2024-05-31T14:38:49.685776Z",
     "iopub.status.idle": "2024-05-31T14:38:49.692607Z",
     "shell.execute_reply": "2024-05-31T14:38:49.691800Z"
    },
    "papermill": {
     "duration": 0.018506,
     "end_time": "2024-05-31T14:38:49.694795",
     "exception": false,
     "start_time": "2024-05-31T14:38:49.676289",
     "status": "completed"
    },
    "tags": []
   },
   "outputs": [
    {
     "data": {
      "text/plain": [
       "spam\n",
       "0    1368\n",
       "Name: count, dtype: int64"
      ]
     },
     "execution_count": 8,
     "metadata": {},
     "output_type": "execute_result"
    }
   ],
   "source": [
    "df_ham_down['spam'].value_counts()"
   ]
  },
  {
   "cell_type": "code",
   "execution_count": 9,
   "id": "3d066111",
   "metadata": {
    "execution": {
     "iopub.execute_input": "2024-05-31T14:38:49.714081Z",
     "iopub.status.busy": "2024-05-31T14:38:49.713817Z",
     "iopub.status.idle": "2024-05-31T14:38:49.720193Z",
     "shell.execute_reply": "2024-05-31T14:38:49.719355Z"
    },
    "papermill": {
     "duration": 0.018681,
     "end_time": "2024-05-31T14:38:49.722421",
     "exception": false,
     "start_time": "2024-05-31T14:38:49.703740",
     "status": "completed"
    },
    "tags": []
   },
   "outputs": [
    {
     "data": {
      "text/plain": [
       "(2736, 2)"
      ]
     },
     "execution_count": 9,
     "metadata": {},
     "output_type": "execute_result"
    }
   ],
   "source": [
    "df_balanced = pd.concat([df_ham_down, df_spam])\n",
    "df_balanced.shape"
   ]
  },
  {
   "cell_type": "code",
   "execution_count": 10,
   "id": "868944dc",
   "metadata": {
    "execution": {
     "iopub.execute_input": "2024-05-31T14:38:49.741938Z",
     "iopub.status.busy": "2024-05-31T14:38:49.741673Z",
     "iopub.status.idle": "2024-05-31T14:38:49.748499Z",
     "shell.execute_reply": "2024-05-31T14:38:49.747543Z"
    },
    "papermill": {
     "duration": 0.019081,
     "end_time": "2024-05-31T14:38:49.750850",
     "exception": false,
     "start_time": "2024-05-31T14:38:49.731769",
     "status": "completed"
    },
    "tags": []
   },
   "outputs": [
    {
     "data": {
      "text/plain": [
       "spam\n",
       "0    1368\n",
       "1    1368\n",
       "Name: count, dtype: int64"
      ]
     },
     "execution_count": 10,
     "metadata": {},
     "output_type": "execute_result"
    }
   ],
   "source": [
    "df_balanced['spam'].value_counts()"
   ]
  },
  {
   "cell_type": "code",
   "execution_count": 11,
   "id": "a5f207a1",
   "metadata": {
    "execution": {
     "iopub.execute_input": "2024-05-31T14:38:49.771168Z",
     "iopub.status.busy": "2024-05-31T14:38:49.770872Z",
     "iopub.status.idle": "2024-05-31T14:38:49.774457Z",
     "shell.execute_reply": "2024-05-31T14:38:49.773645Z"
    },
    "papermill": {
     "duration": 0.015666,
     "end_time": "2024-05-31T14:38:49.776413",
     "exception": false,
     "start_time": "2024-05-31T14:38:49.760747",
     "status": "completed"
    },
    "tags": []
   },
   "outputs": [],
   "source": [
    "# df_balanced['spam'] = df['Category'].apply(lambda x: 1 if x == 'spam' else 0)"
   ]
  },
  {
   "cell_type": "code",
   "execution_count": 12,
   "id": "a782bde0",
   "metadata": {
    "execution": {
     "iopub.execute_input": "2024-05-31T14:38:49.796145Z",
     "iopub.status.busy": "2024-05-31T14:38:49.795869Z",
     "iopub.status.idle": "2024-05-31T14:38:50.728238Z",
     "shell.execute_reply": "2024-05-31T14:38:50.727412Z"
    },
    "papermill": {
     "duration": 0.94508,
     "end_time": "2024-05-31T14:38:50.730908",
     "exception": false,
     "start_time": "2024-05-31T14:38:49.785828",
     "status": "completed"
    },
    "tags": []
   },
   "outputs": [],
   "source": [
    "from sklearn.model_selection import train_test_split\n",
    "\n",
    "X_train,X_test,y_train,y_test = train_test_split(df_balanced['text'], df_balanced['spam'], test_size=0.2, stratify=df_balanced['spam'])"
   ]
  },
  {
   "cell_type": "code",
   "execution_count": 13,
   "id": "9ddbc6a9",
   "metadata": {
    "execution": {
     "iopub.execute_input": "2024-05-31T14:38:50.750677Z",
     "iopub.status.busy": "2024-05-31T14:38:50.750360Z",
     "iopub.status.idle": "2024-05-31T14:38:50.757143Z",
     "shell.execute_reply": "2024-05-31T14:38:50.756257Z"
    },
    "papermill": {
     "duration": 0.018886,
     "end_time": "2024-05-31T14:38:50.759495",
     "exception": false,
     "start_time": "2024-05-31T14:38:50.740609",
     "status": "completed"
    },
    "tags": []
   },
   "outputs": [
    {
     "data": {
      "text/plain": [
       "1919    Subject: re : a visit  dear mr . fujita :  tha...\n",
       "818     Subject: 1000 ' s of computer products on sale...\n",
       "307     Subject: visual identity and logo now  working...\n",
       "2381    Subject: trash bash event on saturday , march ...\n",
       "4914    Subject: hi vince ,  after we hung up the phon...\n",
       "Name: text, dtype: object"
      ]
     },
     "execution_count": 13,
     "metadata": {},
     "output_type": "execute_result"
    }
   ],
   "source": [
    "X_train.head()"
   ]
  },
  {
   "cell_type": "code",
   "execution_count": 14,
   "id": "07db765b",
   "metadata": {
    "execution": {
     "iopub.execute_input": "2024-05-31T14:38:50.778440Z",
     "iopub.status.busy": "2024-05-31T14:38:50.778109Z",
     "iopub.status.idle": "2024-05-31T14:39:08.123434Z",
     "shell.execute_reply": "2024-05-31T14:39:08.122671Z"
    },
    "papermill": {
     "duration": 17.357063,
     "end_time": "2024-05-31T14:39:08.125777",
     "exception": false,
     "start_time": "2024-05-31T14:38:50.768714",
     "status": "completed"
    },
    "tags": []
   },
   "outputs": [],
   "source": [
    "bert_preprocess = hub.KerasLayer(\"https://tfhub.dev/tensorflow/bert_en_uncased_preprocess/3\")\n",
    "bert_encoder = hub.KerasLayer(\"https://tfhub.dev/tensorflow/small_bert/bert_en_uncased_L-4_H-512_A-8/1\")"
   ]
  },
  {
   "cell_type": "code",
   "execution_count": 15,
   "id": "210e0d0c",
   "metadata": {
    "execution": {
     "iopub.execute_input": "2024-05-31T14:39:08.144973Z",
     "iopub.status.busy": "2024-05-31T14:39:08.144369Z",
     "iopub.status.idle": "2024-05-31T14:39:08.148302Z",
     "shell.execute_reply": "2024-05-31T14:39:08.147514Z"
    },
    "papermill": {
     "duration": 0.015341,
     "end_time": "2024-05-31T14:39:08.150217",
     "exception": false,
     "start_time": "2024-05-31T14:39:08.134876",
     "status": "completed"
    },
    "tags": []
   },
   "outputs": [],
   "source": [
    "text_test = ['this is such an amazing movie!']"
   ]
  },
  {
   "cell_type": "code",
   "execution_count": 16,
   "id": "92666b6e",
   "metadata": {
    "execution": {
     "iopub.execute_input": "2024-05-31T14:39:08.168713Z",
     "iopub.status.busy": "2024-05-31T14:39:08.168449Z",
     "iopub.status.idle": "2024-05-31T14:39:08.818342Z",
     "shell.execute_reply": "2024-05-31T14:39:08.817547Z"
    },
    "papermill": {
     "duration": 0.662011,
     "end_time": "2024-05-31T14:39:08.820794",
     "exception": false,
     "start_time": "2024-05-31T14:39:08.158783",
     "status": "completed"
    },
    "tags": []
   },
   "outputs": [],
   "source": [
    "text_input = tf.keras.layers.Input(shape=(), dtype=tf.string, name='text')\n",
    "preprocessed_text = bert_preprocess(text_input)\n",
    "outputs = bert_encoder(preprocessed_text)\n",
    "\n",
    "\n",
    "l = tf.keras.layers.Dropout(0.1, name='dropout')(outputs['pooled_output'])\n",
    "l = tf.keras.layers.Dense(1,activation = 'sigmoid', name = 'output')(l)\n",
    "\n",
    "model = tf.keras.Model(inputs = [text_input], outputs = [l])"
   ]
  },
  {
   "cell_type": "code",
   "execution_count": 17,
   "id": "093fd641",
   "metadata": {
    "execution": {
     "iopub.execute_input": "2024-05-31T14:39:08.839980Z",
     "iopub.status.busy": "2024-05-31T14:39:08.839675Z",
     "iopub.status.idle": "2024-05-31T14:39:08.873220Z",
     "shell.execute_reply": "2024-05-31T14:39:08.872281Z"
    },
    "papermill": {
     "duration": 0.052151,
     "end_time": "2024-05-31T14:39:08.881943",
     "exception": false,
     "start_time": "2024-05-31T14:39:08.829792",
     "status": "completed"
    },
    "tags": []
   },
   "outputs": [
    {
     "name": "stdout",
     "output_type": "stream",
     "text": [
      "Model: \"model\"\n",
      "__________________________________________________________________________________________________\n",
      " Layer (type)                Output Shape                 Param #   Connected to                  \n",
      "==================================================================================================\n",
      " text (InputLayer)           [(None,)]                    0         []                            \n",
      "                                                                                                  \n",
      " keras_layer (KerasLayer)    {'input_type_ids': (None,    0         ['text[0][0]']                \n",
      "                             128),                                                                \n",
      "                              'input_mask': (None, 128)                                           \n",
      "                             , 'input_word_ids': (None,                                           \n",
      "                              128)}                                                               \n",
      "                                                                                                  \n",
      " keras_layer_1 (KerasLayer)  {'sequence_output': (None,   2876364   ['keras_layer[0][0]',         \n",
      "                              128, 512),                  9          'keras_layer[0][1]',         \n",
      "                              'encoder_outputs': [(None              'keras_layer[0][2]']         \n",
      "                             , 128, 512),                                                         \n",
      "                              (None, 128, 512),                                                   \n",
      "                              (None, 128, 512),                                                   \n",
      "                              (None, 128, 512)],                                                  \n",
      "                              'default': (None, 512),                                             \n",
      "                              'pooled_output': (None, 5                                           \n",
      "                             12)}                                                                 \n",
      "                                                                                                  \n",
      " dropout (Dropout)           (None, 512)                  0         ['keras_layer_1[0][5]']       \n",
      "                                                                                                  \n",
      " output (Dense)              (None, 1)                    513       ['dropout[0][0]']             \n",
      "                                                                                                  \n",
      "==================================================================================================\n",
      "Total params: 28764162 (109.73 MB)\n",
      "Trainable params: 513 (2.00 KB)\n",
      "Non-trainable params: 28763649 (109.72 MB)\n",
      "__________________________________________________________________________________________________\n"
     ]
    }
   ],
   "source": [
    "model.summary()"
   ]
  },
  {
   "cell_type": "code",
   "execution_count": 18,
   "id": "651affe4",
   "metadata": {
    "execution": {
     "iopub.execute_input": "2024-05-31T14:39:08.905281Z",
     "iopub.status.busy": "2024-05-31T14:39:08.905007Z",
     "iopub.status.idle": "2024-05-31T14:39:08.910295Z",
     "shell.execute_reply": "2024-05-31T14:39:08.909420Z"
    },
    "papermill": {
     "duration": 0.019212,
     "end_time": "2024-05-31T14:39:08.912268",
     "exception": false,
     "start_time": "2024-05-31T14:39:08.893056",
     "status": "completed"
    },
    "tags": []
   },
   "outputs": [
    {
     "data": {
      "text/plain": [
       "2188"
      ]
     },
     "execution_count": 18,
     "metadata": {},
     "output_type": "execute_result"
    }
   ],
   "source": [
    "len(X_train)"
   ]
  },
  {
   "cell_type": "code",
   "execution_count": 19,
   "id": "3d74569e",
   "metadata": {
    "execution": {
     "iopub.execute_input": "2024-05-31T14:39:08.936100Z",
     "iopub.status.busy": "2024-05-31T14:39:08.935858Z",
     "iopub.status.idle": "2024-05-31T14:39:09.266643Z",
     "shell.execute_reply": "2024-05-31T14:39:09.265598Z"
    },
    "papermill": {
     "duration": 0.345144,
     "end_time": "2024-05-31T14:39:09.268977",
     "exception": false,
     "start_time": "2024-05-31T14:39:08.923833",
     "status": "completed"
    },
    "tags": []
   },
   "outputs": [],
   "source": [
    "METRICS = [\n",
    "    tf.keras.metrics.BinaryAccuracy(name = 'accuracy'),\n",
    "    tf.keras.metrics.Precision(name = 'precision'),\n",
    "    tf.keras.metrics.Recall(name = 'recall')\n",
    "]\n",
    "\n",
    "model.compile(optimizer = 'adam',\n",
    "             loss = 'binary_crossentropy',\n",
    "             metrics = METRICS)\n"
   ]
  },
  {
   "cell_type": "code",
   "execution_count": 20,
   "id": "01cf8002",
   "metadata": {
    "execution": {
     "iopub.execute_input": "2024-05-31T14:39:09.293479Z",
     "iopub.status.busy": "2024-05-31T14:39:09.293158Z",
     "iopub.status.idle": "2024-05-31T14:40:19.180290Z",
     "shell.execute_reply": "2024-05-31T14:40:19.179412Z"
    },
    "papermill": {
     "duration": 69.901329,
     "end_time": "2024-05-31T14:40:19.182282",
     "exception": false,
     "start_time": "2024-05-31T14:39:09.280953",
     "status": "completed"
    },
    "tags": []
   },
   "outputs": [
    {
     "name": "stdout",
     "output_type": "stream",
     "text": [
      "Epoch 1/10\n",
      " 1/69 [..............................] - ETA: 8:24 - loss: 0.7165 - accuracy: 0.4375 - precision: 0.4211 - recall: 0.5333"
     ]
    },
    {
     "name": "stderr",
     "output_type": "stream",
     "text": [
      "WARNING: All log messages before absl::InitializeLog() is called are written to STDERR\n",
      "I0000 00:00:1717166356.668332      74 device_compiler.h:186] Compiled cluster using XLA!  This line is logged at most once for the lifetime of the process.\n"
     ]
    },
    {
     "name": "stdout",
     "output_type": "stream",
     "text": [
      "69/69 [==============================] - 14s 91ms/step - loss: 0.5565 - accuracy: 0.7299 - precision: 0.7384 - recall: 0.7121\n",
      "Epoch 2/10\n",
      "69/69 [==============================] - 6s 90ms/step - loss: 0.3797 - accuracy: 0.8661 - precision: 0.8631 - recall: 0.8702\n",
      "Epoch 3/10\n",
      "69/69 [==============================] - 6s 90ms/step - loss: 0.3176 - accuracy: 0.8830 - precision: 0.8851 - recall: 0.8803\n",
      "Epoch 4/10\n",
      "69/69 [==============================] - 6s 90ms/step - loss: 0.2867 - accuracy: 0.8844 - precision: 0.8833 - recall: 0.8857\n",
      "Epoch 5/10\n",
      "69/69 [==============================] - 6s 92ms/step - loss: 0.2677 - accuracy: 0.8912 - precision: 0.8912 - recall: 0.8912\n",
      "Epoch 6/10\n",
      "69/69 [==============================] - 6s 90ms/step - loss: 0.2480 - accuracy: 0.9031 - precision: 0.9002 - recall: 0.9068\n",
      "Epoch 7/10\n",
      "69/69 [==============================] - 6s 89ms/step - loss: 0.2381 - accuracy: 0.9022 - precision: 0.9029 - recall: 0.9013\n",
      "Epoch 8/10\n",
      "69/69 [==============================] - 6s 90ms/step - loss: 0.2304 - accuracy: 0.9068 - precision: 0.8952 - recall: 0.9214\n",
      "Epoch 9/10\n",
      "69/69 [==============================] - 6s 90ms/step - loss: 0.2180 - accuracy: 0.9113 - precision: 0.9054 - recall: 0.9186\n",
      "Epoch 10/10\n",
      "69/69 [==============================] - 6s 92ms/step - loss: 0.2114 - accuracy: 0.9191 - precision: 0.9083 - recall: 0.9324\n"
     ]
    },
    {
     "data": {
      "text/plain": [
       "<keras.src.callbacks.History at 0x78056ddadc00>"
      ]
     },
     "execution_count": 20,
     "metadata": {},
     "output_type": "execute_result"
    }
   ],
   "source": [
    "model.fit(X_train, y_train, epochs = 10)"
   ]
  },
  {
   "cell_type": "code",
   "execution_count": 21,
   "id": "3917aea2",
   "metadata": {
    "execution": {
     "iopub.execute_input": "2024-05-31T14:40:19.318431Z",
     "iopub.status.busy": "2024-05-31T14:40:19.318043Z",
     "iopub.status.idle": "2024-05-31T14:40:21.497755Z",
     "shell.execute_reply": "2024-05-31T14:40:21.496730Z"
    },
    "papermill": {
     "duration": 2.251927,
     "end_time": "2024-05-31T14:40:21.499941",
     "exception": false,
     "start_time": "2024-05-31T14:40:19.248014",
     "status": "completed"
    },
    "tags": []
   },
   "outputs": [
    {
     "name": "stdout",
     "output_type": "stream",
     "text": [
      "18/18 [==============================] - 2s 87ms/step - loss: 0.2141 - accuracy: 0.9234 - precision: 0.9113 - recall: 0.9380\n"
     ]
    },
    {
     "data": {
      "text/plain": [
       "[0.2141256183385849, 0.9233576655387878, 0.911347508430481, 0.9379562139511108]"
      ]
     },
     "execution_count": 21,
     "metadata": {},
     "output_type": "execute_result"
    }
   ],
   "source": [
    "model.evaluate(X_test, y_test)"
   ]
  },
  {
   "cell_type": "code",
   "execution_count": 22,
   "id": "ad094805",
   "metadata": {
    "execution": {
     "iopub.execute_input": "2024-05-31T14:40:21.638991Z",
     "iopub.status.busy": "2024-05-31T14:40:21.638655Z",
     "iopub.status.idle": "2024-05-31T14:40:23.627297Z",
     "shell.execute_reply": "2024-05-31T14:40:23.626291Z"
    },
    "papermill": {
     "duration": 2.059859,
     "end_time": "2024-05-31T14:40:23.629714",
     "exception": false,
     "start_time": "2024-05-31T14:40:21.569855",
     "status": "completed"
    },
    "tags": []
   },
   "outputs": [
    {
     "name": "stdout",
     "output_type": "stream",
     "text": [
      "18/18 [==============================] - 2s 84ms/step\n"
     ]
    }
   ],
   "source": [
    "y_predicted = model.predict(X_test)\n",
    "y_predicted = y_predicted.flatten()"
   ]
  },
  {
   "cell_type": "code",
   "execution_count": 23,
   "id": "fb582fec",
   "metadata": {
    "execution": {
     "iopub.execute_input": "2024-05-31T14:40:23.812151Z",
     "iopub.status.busy": "2024-05-31T14:40:23.811801Z",
     "iopub.status.idle": "2024-05-31T14:40:23.820255Z",
     "shell.execute_reply": "2024-05-31T14:40:23.819411Z"
    },
    "papermill": {
     "duration": 0.080281,
     "end_time": "2024-05-31T14:40:23.822048",
     "exception": false,
     "start_time": "2024-05-31T14:40:23.741767",
     "status": "completed"
    },
    "tags": []
   },
   "outputs": [
    {
     "data": {
      "text/plain": [
       "array([0, 0, 0, 1, 0, 1, 1, 0, 1, 0, 0, 1, 1, 0, 0, 0, 1, 0, 1, 1, 1, 0,\n",
       "       0, 1, 0, 1, 0, 1, 0, 1, 0, 1, 1, 0, 1, 0, 0, 1, 1, 1, 1, 1, 0, 1,\n",
       "       0, 1, 0, 0, 0, 1, 1, 0, 0, 1, 0, 1, 0, 0, 0, 1, 0, 0, 0, 0, 0, 0,\n",
       "       1, 1, 1, 0, 1, 0, 0, 1, 1, 0, 0, 1, 0, 1, 0, 1, 1, 0, 0, 0, 0, 1,\n",
       "       0, 1, 0, 1, 0, 1, 1, 0, 0, 1, 0, 0, 0, 0, 0, 0, 0, 1, 1, 0, 0, 1,\n",
       "       0, 0, 1, 0, 1, 1, 1, 1, 1, 1, 0, 1, 1, 1, 0, 0, 0, 1, 0, 1, 1, 1,\n",
       "       0, 1, 0, 0, 0, 0, 0, 1, 0, 0, 1, 1, 1, 1, 1, 1, 0, 0, 0, 1, 1, 0,\n",
       "       1, 0, 1, 1, 0, 0, 0, 1, 1, 0, 1, 1, 1, 1, 1, 0, 0, 1, 1, 1, 1, 1,\n",
       "       1, 0, 0, 0, 0, 1, 0, 0, 1, 0, 0, 0, 1, 1, 0, 1, 1, 0, 1, 1, 1, 0,\n",
       "       0, 1, 0, 0, 0, 1, 1, 1, 0, 0, 0, 1, 1, 0, 1, 1, 1, 0, 0, 0, 1, 1,\n",
       "       1, 1, 0, 1, 0, 1, 0, 1, 1, 0, 1, 0, 0, 0, 0, 0, 0, 1, 0, 0, 1, 1,\n",
       "       1, 1, 1, 1, 1, 0, 1, 0, 1, 0, 1, 1, 0, 0, 1, 1, 1, 1, 1, 1, 0, 1,\n",
       "       1, 0, 1, 0, 0, 1, 1, 1, 0, 0, 1, 1, 0, 1, 1, 1, 0, 0, 1, 0, 1, 1,\n",
       "       1, 1, 1, 1, 1, 1, 0, 0, 0, 0, 0, 0, 1, 1, 0, 1, 0, 1, 1, 1, 0, 0,\n",
       "       0, 0, 1, 0, 1, 0, 1, 1, 0, 1, 1, 1, 0, 0, 0, 0, 1, 1, 1, 0, 1, 0,\n",
       "       0, 0, 1, 1, 0, 0, 1, 1, 0, 1, 1, 1, 1, 0, 0, 1, 1, 0, 1, 0, 0, 1,\n",
       "       1, 0, 1, 0, 1, 0, 1, 1, 1, 0, 0, 0, 1, 1, 1, 1, 1, 1, 1, 0, 0, 0,\n",
       "       1, 0, 1, 0, 1, 0, 0, 0, 1, 0, 0, 1, 1, 0, 0, 1, 0, 0, 0, 0, 0, 1,\n",
       "       1, 0, 1, 1, 1, 1, 0, 0, 0, 1, 0, 0, 1, 1, 0, 0, 1, 1, 0, 1, 1, 1,\n",
       "       0, 0, 1, 1, 0, 1, 1, 1, 0, 1, 1, 0, 0, 0, 0, 1, 1, 0, 1, 0, 1, 1,\n",
       "       1, 0, 1, 0, 0, 0, 0, 1, 0, 0, 1, 1, 0, 1, 1, 1, 0, 1, 0, 1, 0, 0,\n",
       "       1, 1, 1, 0, 0, 0, 0, 0, 1, 1, 0, 0, 1, 0, 0, 1, 0, 0, 0, 0, 0, 1,\n",
       "       1, 0, 0, 1, 1, 0, 1, 0, 1, 1, 1, 1, 1, 1, 0, 0, 0, 1, 0, 0, 0, 1,\n",
       "       1, 1, 1, 0, 0, 1, 1, 0, 1, 0, 0, 1, 1, 0, 1, 1, 0, 1, 1, 0, 1, 1,\n",
       "       1, 1, 0, 0, 1, 0, 0, 1, 0, 0, 0, 1, 1, 1, 1, 0, 1, 0, 1, 0])"
      ]
     },
     "execution_count": 23,
     "metadata": {},
     "output_type": "execute_result"
    }
   ],
   "source": [
    "y_predicted = np.where(y_predicted > 0.5 , 1, 0)\n",
    "y_predicted"
   ]
  },
  {
   "cell_type": "code",
   "execution_count": 24,
   "id": "56a8e7e7",
   "metadata": {
    "execution": {
     "iopub.execute_input": "2024-05-31T14:40:23.961331Z",
     "iopub.status.busy": "2024-05-31T14:40:23.961007Z",
     "iopub.status.idle": "2024-05-31T14:40:23.969479Z",
     "shell.execute_reply": "2024-05-31T14:40:23.968635Z"
    },
    "papermill": {
     "duration": 0.080037,
     "end_time": "2024-05-31T14:40:23.971559",
     "exception": false,
     "start_time": "2024-05-31T14:40:23.891522",
     "status": "completed"
    },
    "tags": []
   },
   "outputs": [
    {
     "data": {
      "text/plain": [
       "array([[249,  25],\n",
       "       [ 17, 257]])"
      ]
     },
     "execution_count": 24,
     "metadata": {},
     "output_type": "execute_result"
    }
   ],
   "source": [
    "from sklearn.metrics import confusion_matrix, classification_report\n",
    "\n",
    "cm = confusion_matrix(y_test, y_predicted)\n",
    "cm"
   ]
  },
  {
   "cell_type": "code",
   "execution_count": 25,
   "id": "25badea2",
   "metadata": {
    "execution": {
     "iopub.execute_input": "2024-05-31T14:40:24.111060Z",
     "iopub.status.busy": "2024-05-31T14:40:24.110770Z",
     "iopub.status.idle": "2024-05-31T14:40:24.646650Z",
     "shell.execute_reply": "2024-05-31T14:40:24.645718Z"
    },
    "papermill": {
     "duration": 0.607163,
     "end_time": "2024-05-31T14:40:24.648696",
     "exception": false,
     "start_time": "2024-05-31T14:40:24.041533",
     "status": "completed"
    },
    "tags": []
   },
   "outputs": [
    {
     "data": {
      "text/plain": [
       "Text(50.722222222222214, 0.5, 'Truth')"
      ]
     },
     "execution_count": 25,
     "metadata": {},
     "output_type": "execute_result"
    },
    {
     "data": {
      "image/png": "[encoded data removed]",
      "text/plain": [
       "<Figure size 640x480 with 2 Axes>"
      ]
     },
     "metadata": {},
     "output_type": "display_data"
    }
   ],
   "source": [
    "import seaborn as sns\n",
    "\n",
    "sns.heatmap(cm, annot= True, fmt = 'd')\n",
    "plt.xlabel('Predicted')\n",
    "plt.ylabel('Truth')"
   ]
  },
  {
   "cell_type": "code",
   "execution_count": 26,
   "id": "d061e2f4",
   "metadata": {
    "execution": {
     "iopub.execute_input": "2024-05-31T14:40:24.789048Z",
     "iopub.status.busy": "2024-05-31T14:40:24.788297Z",
     "iopub.status.idle": "2024-05-31T14:40:24.801603Z",
     "shell.execute_reply": "2024-05-31T14:40:24.800696Z"
    },
    "papermill": {
     "duration": 0.08532,
     "end_time": "2024-05-31T14:40:24.803560",
     "exception": false,
     "start_time": "2024-05-31T14:40:24.718240",
     "status": "completed"
    },
    "tags": []
   },
   "outputs": [
    {
     "name": "stdout",
     "output_type": "stream",
     "text": [
      "              precision    recall  f1-score   support\n",
      "\n",
      "           0       0.94      0.91      0.92       274\n",
      "           1       0.91      0.94      0.92       274\n",
      "\n",
      "    accuracy                           0.92       548\n",
      "   macro avg       0.92      0.92      0.92       548\n",
      "weighted avg       0.92      0.92      0.92       548\n",
      "\n"
     ]
    }
   ],
   "source": [
    "print(classification_report(y_test, y_predicted))"
   ]
  },
  {
   "cell_type": "code",
   "execution_count": null,
   "id": "2340b4aa",
   "metadata": {
    "papermill": {
     "duration": 0.0708,
     "end_time": "2024-05-31T14:40:24.943224",
     "exception": false,
     "start_time": "2024-05-31T14:40:24.872424",
     "status": "completed"
    },
    "tags": []
   },
   "outputs": [],
   "source": []
  }
 ],
 "metadata": {
  "kaggle": {
   "accelerator": "gpu",
   "dataSources": [
    {
     "datasetId": 5121565,
     "sourceId": 8566664,
     "sourceType": "datasetVersion"
    },
    {
     "datasetId": 5125011,
     "sourceId": 8571130,
     "sourceType": "datasetVersion"
    }
   ],
   "dockerImageVersionId": 30716,
   "isGpuEnabled": true,
   "isInternetEnabled": true,
   "language": "python",
   "sourceType": "notebook"
  },
  "kernelspec": {
   "display_name": "Python 3",
   "language": "python",
   "name": "python3"
  },
  "language_info": {
   "codemirror_mode": {
    "name": "ipython",
    "version": 3
   },
   "file_extension": ".py",
   "mimetype": "text/x-python",
   "name": "python",
   "nbconvert_exporter": "python",
   "pygments_lexer": "ipython3",
   "version": "3.10.13"
  },
  "papermill": {
   "default_parameters": {},
   "duration": 130.234991,
   "end_time": "2024-05-31T14:40:28.423127",
   "environment_variables": {},
   "exception": null,
   "input_path": "__notebook__.ipynb",
   "output_path": "__notebook__.ipynb",
   "parameters": {},
   "start_time": "2024-05-31T14:38:18.188136",
   "version": "2.5.0"
  }
 },
 "nbformat": 4,
 "nbformat_minor": 5
}
