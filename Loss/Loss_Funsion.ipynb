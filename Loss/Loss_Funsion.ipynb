{
  "nbformat": 4,
  "nbformat_minor": 0,
  "metadata": {
    "colab": {
      "provenance": []
    },
    "kernelspec": {
      "name": "python3",
      "display_name": "Python 3"
    },
    "language_info": {
      "name": "python"
    }
  },
  "cells": [
    {
      "cell_type": "markdown",
      "source": [
        "# Implement Mean Absolute Error\n",
        "---\n"
      ],
      "metadata": {
        "id": "844W2qT6Ow4M"
      }
    },
    {
      "cell_type": "code",
      "execution_count": 64,
      "metadata": {
        "id": "_mNOca_9NcWT"
      },
      "outputs": [],
      "source": [
        "import numpy as np\n",
        "import tensorflow as tf"
      ]
    },
    {
      "cell_type": "code",
      "source": [
        "y_predicted = np.array([1,1,0,0,1])\n",
        "y_true = np.array([0.30,0.7,1,0,0.5])"
      ],
      "metadata": {
        "id": "cJDAO0LTOC8n"
      },
      "execution_count": 65,
      "outputs": []
    },
    {
      "cell_type": "code",
      "source": [
        "def mae(y_predicted, y_true):\n",
        "  total_error = 0\n",
        "  for yp, yt in zip(y_predicted, y_true):\n",
        "    total_error += abs(yp - yt)\n",
        "  print('Total error is: ', total_error)\n",
        "  mae = total_error / len(y_predicted)\n",
        "  print('Mean absolute error is: ', mae)\n",
        "  return mae"
      ],
      "metadata": {
        "id": "l7QHEGciO5ZT"
      },
      "execution_count": 66,
      "outputs": []
    },
    {
      "cell_type": "code",
      "source": [
        "mae(y_predicted, y_true)"
      ],
      "metadata": {
        "colab": {
          "base_uri": "https://localhost:8080/"
        },
        "id": "HSVpxKy3Qr_8",
        "outputId": "4bd10ac4-61cb-4c73-c5bb-0a6d83dd8192"
      },
      "execution_count": 67,
      "outputs": [
        {
          "output_type": "stream",
          "name": "stdout",
          "text": [
            "Total error is:  2.5\n",
            "Mean absolute error is:  0.5\n"
          ]
        },
        {
          "output_type": "execute_result",
          "data": {
            "text/plain": [
              "0.5"
            ]
          },
          "metadata": {},
          "execution_count": 67
        }
      ]
    },
    {
      "cell_type": "markdown",
      "source": [
        "Implement same thing using numpy in much easier way"
      ],
      "metadata": {
        "id": "vKN_wINfRpHR"
      }
    },
    {
      "cell_type": "code",
      "source": [
        "np.abs(y_predicted - y_true)"
      ],
      "metadata": {
        "colab": {
          "base_uri": "https://localhost:8080/"
        },
        "id": "O0lO071UQw_f",
        "outputId": "08fc4d3a-45a7-4df7-a9aa-59c0fc531e99"
      },
      "execution_count": 68,
      "outputs": [
        {
          "output_type": "execute_result",
          "data": {
            "text/plain": [
              "array([0.7, 0.3, 1. , 0. , 0.5])"
            ]
          },
          "metadata": {},
          "execution_count": 68
        }
      ]
    },
    {
      "cell_type": "code",
      "source": [
        "np.mean(np.abs(y_predicted - y_true))"
      ],
      "metadata": {
        "colab": {
          "base_uri": "https://localhost:8080/"
        },
        "id": "q3KVIgK0R0wH",
        "outputId": "7feb31e9-8021-4954-9308-6adf004b41e1"
      },
      "execution_count": 69,
      "outputs": [
        {
          "output_type": "execute_result",
          "data": {
            "text/plain": [
              "0.5"
            ]
          },
          "metadata": {},
          "execution_count": 69
        }
      ]
    },
    {
      "cell_type": "code",
      "source": [
        "def mae_np(y_predicted, y_true):\n",
        "  return np.mean(np.abs(y_predicted - y_true))"
      ],
      "metadata": {
        "id": "203zv2bGSCEd"
      },
      "execution_count": 70,
      "outputs": []
    },
    {
      "cell_type": "code",
      "source": [
        "mae_np(y_predicted, y_true)"
      ],
      "metadata": {
        "colab": {
          "base_uri": "https://localhost:8080/"
        },
        "id": "luBEjg3ySfZp",
        "outputId": "d746b1fd-6da2-44da-d8cf-db05ed723bb9"
      },
      "execution_count": 71,
      "outputs": [
        {
          "output_type": "execute_result",
          "data": {
            "text/plain": [
              "0.5"
            ]
          },
          "metadata": {},
          "execution_count": 71
        }
      ]
    },
    {
      "cell_type": "markdown",
      "source": [
        "## Imaplement Log Loss or Binary Cross Entropy"
      ],
      "metadata": {
        "id": "IipRVWBfUDHO"
      }
    },
    {
      "cell_type": "code",
      "source": [
        "np.log([2])"
      ],
      "metadata": {
        "colab": {
          "base_uri": "https://localhost:8080/"
        },
        "id": "FN8X0-rfTDhW",
        "outputId": "77635a01-6bc4-4b1c-b480-c5acef9d613e"
      },
      "execution_count": 72,
      "outputs": [
        {
          "output_type": "execute_result",
          "data": {
            "text/plain": [
              "array([0.69314718])"
            ]
          },
          "metadata": {},
          "execution_count": 72
        }
      ]
    },
    {
      "cell_type": "code",
      "source": [
        "epsilon = 1e-15\n",
        "\n",
        "np.log([epsilon])"
      ],
      "metadata": {
        "colab": {
          "base_uri": "https://localhost:8080/"
        },
        "id": "qk5kB85wUQjw",
        "outputId": "8397ba91-42f7-4aee-d977-5fd3a176d324"
      },
      "execution_count": 73,
      "outputs": [
        {
          "output_type": "execute_result",
          "data": {
            "text/plain": [
              "array([-34.53877639])"
            ]
          },
          "metadata": {},
          "execution_count": 73
        }
      ]
    },
    {
      "cell_type": "code",
      "source": [
        "y_predicted"
      ],
      "metadata": {
        "colab": {
          "base_uri": "https://localhost:8080/"
        },
        "id": "7iCNif2xUcD8",
        "outputId": "b1699109-8b42-4cbc-dd58-7f7b79d5bc2a"
      },
      "execution_count": 74,
      "outputs": [
        {
          "output_type": "execute_result",
          "data": {
            "text/plain": [
              "array([1, 1, 0, 0, 1])"
            ]
          },
          "metadata": {},
          "execution_count": 74
        }
      ]
    },
    {
      "cell_type": "code",
      "source": [
        "y_predicted_new = [max(i,epsilon) for i in y_predicted]\n",
        "y_predicted_new"
      ],
      "metadata": {
        "colab": {
          "base_uri": "https://localhost:8080/"
        },
        "id": "5IpRpKHvUq8o",
        "outputId": "45a31ce5-0750-4c5a-c449-a7d0759bc8d7"
      },
      "execution_count": 75,
      "outputs": [
        {
          "output_type": "execute_result",
          "data": {
            "text/plain": [
              "[1, 1, 1e-15, 1e-15, 1]"
            ]
          },
          "metadata": {},
          "execution_count": 75
        }
      ]
    },
    {
      "cell_type": "code",
      "source": [
        "1 - epsilon"
      ],
      "metadata": {
        "colab": {
          "base_uri": "https://localhost:8080/"
        },
        "id": "9AEVY5GaU8Iv",
        "outputId": "085cf22c-1953-4964-8482-6bdc034e2865"
      },
      "execution_count": 76,
      "outputs": [
        {
          "output_type": "execute_result",
          "data": {
            "text/plain": [
              "0.999999999999999"
            ]
          },
          "metadata": {},
          "execution_count": 76
        }
      ]
    },
    {
      "cell_type": "code",
      "source": [
        "y_predicted_new = [min(i, 1 - epsilon) for i in y_predicted_new]\n",
        "y_predicted_new"
      ],
      "metadata": {
        "colab": {
          "base_uri": "https://localhost:8080/"
        },
        "id": "kMwFY8q7VFRh",
        "outputId": "b9805be2-8e27-4592-8776-f3652fc3c717"
      },
      "execution_count": 77,
      "outputs": [
        {
          "output_type": "execute_result",
          "data": {
            "text/plain": [
              "[0.999999999999999, 0.999999999999999, 1e-15, 1e-15, 0.999999999999999]"
            ]
          },
          "metadata": {},
          "execution_count": 77
        }
      ]
    },
    {
      "cell_type": "code",
      "source": [
        "y_predicted_new = np.array(y_predicted_new)"
      ],
      "metadata": {
        "id": "BpTvRuPnVSvy"
      },
      "execution_count": 78,
      "outputs": []
    },
    {
      "cell_type": "code",
      "source": [
        "np.log(y_predicted_new)"
      ],
      "metadata": {
        "colab": {
          "base_uri": "https://localhost:8080/"
        },
        "id": "aufGsrE6Vi5r",
        "outputId": "0f14dd52-c8d7-4ede-f679-56f040aa1c30"
      },
      "execution_count": 79,
      "outputs": [
        {
          "output_type": "execute_result",
          "data": {
            "text/plain": [
              "array([-9.99200722e-16, -9.99200722e-16, -3.45387764e+01, -3.45387764e+01,\n",
              "       -9.99200722e-16])"
            ]
          },
          "metadata": {},
          "execution_count": 79
        }
      ]
    },
    {
      "cell_type": "code",
      "source": [
        "-np.mean(y_true*np.log(y_predicted_new) + (1 - y_true)*np.log(1 - y_predicted_new))"
      ],
      "metadata": {
        "colab": {
          "base_uri": "https://localhost:8080/"
        },
        "id": "oV6MxgdwVmYq",
        "outputId": "b915b199-2260-463d-cf6c-98f690cbf494"
      },
      "execution_count": 80,
      "outputs": [
        {
          "output_type": "execute_result",
          "data": {
            "text/plain": [
              "17.2696280766844"
            ]
          },
          "metadata": {},
          "execution_count": 80
        }
      ]
    },
    {
      "cell_type": "code",
      "source": [
        "def log_loss(y_true, y_predicted, epsilon):\n",
        "  y_predicted_new = [max(i,epsilon) for i in y_predicted]\n",
        "  y_predicted_new = [min(i, 1 - epsilon) for i in y_predicted_new]\n",
        "  y_predicted_new = np.array(y_predicted_new)\n",
        "  return (-np.mean(y_true*np.log(y_predicted_new) + (1 - y_true)*np.log(1 - y_predicted_new)))"
      ],
      "metadata": {
        "id": "Qtr7JqODWwAh"
      },
      "execution_count": 90,
      "outputs": []
    },
    {
      "cell_type": "code",
      "source": [
        "log_loss(y_true, y_predicted, epsilon)"
      ],
      "metadata": {
        "colab": {
          "base_uri": "https://localhost:8080/"
        },
        "id": "o9r2CcKNXrlS",
        "outputId": "f59dc4ee-5ac2-4b98-9c4b-1402529780e4"
      },
      "execution_count": 91,
      "outputs": [
        {
          "output_type": "execute_result",
          "data": {
            "text/plain": [
              "17.2696280766844"
            ]
          },
          "metadata": {},
          "execution_count": 91
        }
      ]
    },
    {
      "cell_type": "markdown",
      "source": [
        "# Implement Mean Squared Error Funsion in Python\n",
        "---\n",
        "\n"
      ],
      "metadata": {
        "id": "dJNMZMxQZ95g"
      }
    },
    {
      "cell_type": "code",
      "source": [
        "y_predicted_mse = np.array([1,1,0,0,1])\n",
        "y_true_mse = np.array([0.30,0.7,1,0,0.5])"
      ],
      "metadata": {
        "id": "Qu1tm-dHXvrl"
      },
      "execution_count": 92,
      "outputs": []
    },
    {
      "cell_type": "code",
      "source": [
        "def mse(y_true_mse, y_predicted_mse):\n",
        "  total_error = 0\n",
        "  for yt, yp in zip(y_true_mse, y_predicted_mse):\n",
        "    total_error += (yt - yp)**2\n",
        "  print('Total Squared Error: ',total_error)\n",
        "  mse = total_error/len(y_true_mse)\n",
        "  print('Mean Squared Error: ', mse)\n",
        "  return mse"
      ],
      "metadata": {
        "id": "hv18UwXvalVu"
      },
      "execution_count": 93,
      "outputs": []
    },
    {
      "cell_type": "code",
      "source": [
        "mse(y_true_mse, y_predicted_mse)"
      ],
      "metadata": {
        "colab": {
          "base_uri": "https://localhost:8080/"
        },
        "id": "dHVv1jBJbSRC",
        "outputId": "9d2b43c1-9871-4b2c-faee-d5aeec6ee20c"
      },
      "execution_count": 94,
      "outputs": [
        {
          "output_type": "stream",
          "name": "stdout",
          "text": [
            "Total Squared Error:  1.83\n",
            "Mean Squared Error:  0.366\n"
          ]
        },
        {
          "output_type": "execute_result",
          "data": {
            "text/plain": [
              "0.366"
            ]
          },
          "metadata": {},
          "execution_count": 94
        }
      ]
    },
    {
      "cell_type": "code",
      "source": [
        "np.mean(np.square(y_true_mse - y_predicted_mse))"
      ],
      "metadata": {
        "colab": {
          "base_uri": "https://localhost:8080/"
        },
        "id": "In0463IvbXb-",
        "outputId": "17fd4ed2-ea01-450a-a93c-06ce27d21c4a"
      },
      "execution_count": 96,
      "outputs": [
        {
          "output_type": "execute_result",
          "data": {
            "text/plain": [
              "0.366"
            ]
          },
          "metadata": {},
          "execution_count": 96
        }
      ]
    },
    {
      "cell_type": "code",
      "source": [
        "def mse_np(y_true,y_predicted):\n",
        "  return np.mean(np.square(y_true - y_predicted))\n"
      ],
      "metadata": {
        "id": "22J5w0OXbuwU"
      },
      "execution_count": 99,
      "outputs": []
    },
    {
      "cell_type": "code",
      "source": [
        "mse_np(y_true_mse, y_predicted_mse)"
      ],
      "metadata": {
        "colab": {
          "base_uri": "https://localhost:8080/"
        },
        "id": "9BjcmKtPcq5N",
        "outputId": "81e2bbb6-6738-4067-ed99-72a29a96ffea"
      },
      "execution_count": 100,
      "outputs": [
        {
          "output_type": "execute_result",
          "data": {
            "text/plain": [
              "0.366"
            ]
          },
          "metadata": {},
          "execution_count": 100
        }
      ]
    }
  ]
}